{
 "cells": [
  {
   "cell_type": "code",
   "execution_count": 1,
   "metadata": {},
   "outputs": [
    {
     "name": "stdout",
     "output_type": "stream",
     "text": [
      "['.git', '.ipynb_checkpoints', 'Classification.ipynb', 'datatest.txt', 'datatest2.txt', 'datatraining.txt', 'LICENSE']\n"
     ]
    }
   ],
   "source": [
    "#Check Directory\n",
    "import os\n",
    "print(os.listdir())"
   ]
  },
  {
   "cell_type": "code",
   "execution_count": 2,
   "metadata": {},
   "outputs": [],
   "source": [
    "#Import Library\n",
    "import pandas as pd\n",
    "import numpy as np\n",
    "import matplotlib.pyplot as plt\n",
    "%matplotlib inline"
   ]
  },
  {
   "cell_type": "code",
   "execution_count": 3,
   "metadata": {},
   "outputs": [
    {
     "data": {
      "text/html": [
       "<div>\n",
       "<style scoped>\n",
       "    .dataframe tbody tr th:only-of-type {\n",
       "        vertical-align: middle;\n",
       "    }\n",
       "\n",
       "    .dataframe tbody tr th {\n",
       "        vertical-align: top;\n",
       "    }\n",
       "\n",
       "    .dataframe thead th {\n",
       "        text-align: right;\n",
       "    }\n",
       "</style>\n",
       "<table border=\"1\" class=\"dataframe\">\n",
       "  <thead>\n",
       "    <tr style=\"text-align: right;\">\n",
       "      <th></th>\n",
       "      <th>date</th>\n",
       "      <th>Temperature</th>\n",
       "      <th>Humidity</th>\n",
       "      <th>Light</th>\n",
       "      <th>CO2</th>\n",
       "      <th>HumidityRatio</th>\n",
       "      <th>Occupancy</th>\n",
       "    </tr>\n",
       "  </thead>\n",
       "  <tbody>\n",
       "    <tr>\n",
       "      <th>1</th>\n",
       "      <td>2015-02-04 17:51:00</td>\n",
       "      <td>23.180</td>\n",
       "      <td>27.272000</td>\n",
       "      <td>426.0</td>\n",
       "      <td>721.250000</td>\n",
       "      <td>0.004793</td>\n",
       "      <td>1</td>\n",
       "    </tr>\n",
       "    <tr>\n",
       "      <th>2</th>\n",
       "      <td>2015-02-04 17:51:59</td>\n",
       "      <td>23.150</td>\n",
       "      <td>27.267500</td>\n",
       "      <td>429.5</td>\n",
       "      <td>714.000000</td>\n",
       "      <td>0.004783</td>\n",
       "      <td>1</td>\n",
       "    </tr>\n",
       "    <tr>\n",
       "      <th>3</th>\n",
       "      <td>2015-02-04 17:53:00</td>\n",
       "      <td>23.150</td>\n",
       "      <td>27.245000</td>\n",
       "      <td>426.0</td>\n",
       "      <td>713.500000</td>\n",
       "      <td>0.004779</td>\n",
       "      <td>1</td>\n",
       "    </tr>\n",
       "    <tr>\n",
       "      <th>4</th>\n",
       "      <td>2015-02-04 17:54:00</td>\n",
       "      <td>23.150</td>\n",
       "      <td>27.200000</td>\n",
       "      <td>426.0</td>\n",
       "      <td>708.250000</td>\n",
       "      <td>0.004772</td>\n",
       "      <td>1</td>\n",
       "    </tr>\n",
       "    <tr>\n",
       "      <th>5</th>\n",
       "      <td>2015-02-04 17:55:00</td>\n",
       "      <td>23.100</td>\n",
       "      <td>27.200000</td>\n",
       "      <td>426.0</td>\n",
       "      <td>704.500000</td>\n",
       "      <td>0.004757</td>\n",
       "      <td>1</td>\n",
       "    </tr>\n",
       "    <tr>\n",
       "      <th>6</th>\n",
       "      <td>2015-02-04 17:55:59</td>\n",
       "      <td>23.100</td>\n",
       "      <td>27.200000</td>\n",
       "      <td>419.0</td>\n",
       "      <td>701.000000</td>\n",
       "      <td>0.004757</td>\n",
       "      <td>1</td>\n",
       "    </tr>\n",
       "    <tr>\n",
       "      <th>7</th>\n",
       "      <td>2015-02-04 17:57:00</td>\n",
       "      <td>23.100</td>\n",
       "      <td>27.200000</td>\n",
       "      <td>419.0</td>\n",
       "      <td>701.666667</td>\n",
       "      <td>0.004757</td>\n",
       "      <td>1</td>\n",
       "    </tr>\n",
       "    <tr>\n",
       "      <th>8</th>\n",
       "      <td>2015-02-04 17:57:59</td>\n",
       "      <td>23.100</td>\n",
       "      <td>27.200000</td>\n",
       "      <td>419.0</td>\n",
       "      <td>699.000000</td>\n",
       "      <td>0.004757</td>\n",
       "      <td>1</td>\n",
       "    </tr>\n",
       "    <tr>\n",
       "      <th>9</th>\n",
       "      <td>2015-02-04 17:58:59</td>\n",
       "      <td>23.100</td>\n",
       "      <td>27.200000</td>\n",
       "      <td>419.0</td>\n",
       "      <td>689.333333</td>\n",
       "      <td>0.004757</td>\n",
       "      <td>1</td>\n",
       "    </tr>\n",
       "    <tr>\n",
       "      <th>10</th>\n",
       "      <td>2015-02-04 18:00:00</td>\n",
       "      <td>23.075</td>\n",
       "      <td>27.175000</td>\n",
       "      <td>419.0</td>\n",
       "      <td>688.000000</td>\n",
       "      <td>0.004745</td>\n",
       "      <td>1</td>\n",
       "    </tr>\n",
       "    <tr>\n",
       "      <th>11</th>\n",
       "      <td>2015-02-04 18:01:00</td>\n",
       "      <td>23.075</td>\n",
       "      <td>27.150000</td>\n",
       "      <td>419.0</td>\n",
       "      <td>690.250000</td>\n",
       "      <td>0.004741</td>\n",
       "      <td>1</td>\n",
       "    </tr>\n",
       "    <tr>\n",
       "      <th>12</th>\n",
       "      <td>2015-02-04 18:02:00</td>\n",
       "      <td>23.100</td>\n",
       "      <td>27.100000</td>\n",
       "      <td>419.0</td>\n",
       "      <td>691.000000</td>\n",
       "      <td>0.004739</td>\n",
       "      <td>1</td>\n",
       "    </tr>\n",
       "    <tr>\n",
       "      <th>13</th>\n",
       "      <td>2015-02-04 18:03:00</td>\n",
       "      <td>23.100</td>\n",
       "      <td>27.166667</td>\n",
       "      <td>419.0</td>\n",
       "      <td>683.500000</td>\n",
       "      <td>0.004751</td>\n",
       "      <td>1</td>\n",
       "    </tr>\n",
       "    <tr>\n",
       "      <th>14</th>\n",
       "      <td>2015-02-04 18:04:00</td>\n",
       "      <td>23.050</td>\n",
       "      <td>27.150000</td>\n",
       "      <td>419.0</td>\n",
       "      <td>687.500000</td>\n",
       "      <td>0.004734</td>\n",
       "      <td>1</td>\n",
       "    </tr>\n",
       "    <tr>\n",
       "      <th>15</th>\n",
       "      <td>2015-02-04 18:04:59</td>\n",
       "      <td>23.000</td>\n",
       "      <td>27.125000</td>\n",
       "      <td>419.0</td>\n",
       "      <td>686.000000</td>\n",
       "      <td>0.004715</td>\n",
       "      <td>1</td>\n",
       "    </tr>\n",
       "    <tr>\n",
       "      <th>16</th>\n",
       "      <td>2015-02-04 18:06:00</td>\n",
       "      <td>23.000</td>\n",
       "      <td>27.125000</td>\n",
       "      <td>418.5</td>\n",
       "      <td>680.500000</td>\n",
       "      <td>0.004715</td>\n",
       "      <td>1</td>\n",
       "    </tr>\n",
       "    <tr>\n",
       "      <th>17</th>\n",
       "      <td>2015-02-04 18:07:00</td>\n",
       "      <td>23.000</td>\n",
       "      <td>27.200000</td>\n",
       "      <td>0.0</td>\n",
       "      <td>681.500000</td>\n",
       "      <td>0.004728</td>\n",
       "      <td>0</td>\n",
       "    </tr>\n",
       "    <tr>\n",
       "      <th>18</th>\n",
       "      <td>2015-02-04 18:08:00</td>\n",
       "      <td>22.945</td>\n",
       "      <td>27.290000</td>\n",
       "      <td>0.0</td>\n",
       "      <td>685.000000</td>\n",
       "      <td>0.004728</td>\n",
       "      <td>0</td>\n",
       "    </tr>\n",
       "    <tr>\n",
       "      <th>19</th>\n",
       "      <td>2015-02-04 18:08:59</td>\n",
       "      <td>22.945</td>\n",
       "      <td>27.390000</td>\n",
       "      <td>0.0</td>\n",
       "      <td>685.000000</td>\n",
       "      <td>0.004745</td>\n",
       "      <td>0</td>\n",
       "    </tr>\n",
       "    <tr>\n",
       "      <th>20</th>\n",
       "      <td>2015-02-04 18:10:00</td>\n",
       "      <td>22.890</td>\n",
       "      <td>27.390000</td>\n",
       "      <td>0.0</td>\n",
       "      <td>689.000000</td>\n",
       "      <td>0.004730</td>\n",
       "      <td>0</td>\n",
       "    </tr>\n",
       "  </tbody>\n",
       "</table>\n",
       "</div>"
      ],
      "text/plain": [
       "                   date  Temperature   Humidity  Light         CO2  \\\n",
       "1   2015-02-04 17:51:00       23.180  27.272000  426.0  721.250000   \n",
       "2   2015-02-04 17:51:59       23.150  27.267500  429.5  714.000000   \n",
       "3   2015-02-04 17:53:00       23.150  27.245000  426.0  713.500000   \n",
       "4   2015-02-04 17:54:00       23.150  27.200000  426.0  708.250000   \n",
       "5   2015-02-04 17:55:00       23.100  27.200000  426.0  704.500000   \n",
       "6   2015-02-04 17:55:59       23.100  27.200000  419.0  701.000000   \n",
       "7   2015-02-04 17:57:00       23.100  27.200000  419.0  701.666667   \n",
       "8   2015-02-04 17:57:59       23.100  27.200000  419.0  699.000000   \n",
       "9   2015-02-04 17:58:59       23.100  27.200000  419.0  689.333333   \n",
       "10  2015-02-04 18:00:00       23.075  27.175000  419.0  688.000000   \n",
       "11  2015-02-04 18:01:00       23.075  27.150000  419.0  690.250000   \n",
       "12  2015-02-04 18:02:00       23.100  27.100000  419.0  691.000000   \n",
       "13  2015-02-04 18:03:00       23.100  27.166667  419.0  683.500000   \n",
       "14  2015-02-04 18:04:00       23.050  27.150000  419.0  687.500000   \n",
       "15  2015-02-04 18:04:59       23.000  27.125000  419.0  686.000000   \n",
       "16  2015-02-04 18:06:00       23.000  27.125000  418.5  680.500000   \n",
       "17  2015-02-04 18:07:00       23.000  27.200000    0.0  681.500000   \n",
       "18  2015-02-04 18:08:00       22.945  27.290000    0.0  685.000000   \n",
       "19  2015-02-04 18:08:59       22.945  27.390000    0.0  685.000000   \n",
       "20  2015-02-04 18:10:00       22.890  27.390000    0.0  689.000000   \n",
       "\n",
       "    HumidityRatio  Occupancy  \n",
       "1        0.004793          1  \n",
       "2        0.004783          1  \n",
       "3        0.004779          1  \n",
       "4        0.004772          1  \n",
       "5        0.004757          1  \n",
       "6        0.004757          1  \n",
       "7        0.004757          1  \n",
       "8        0.004757          1  \n",
       "9        0.004757          1  \n",
       "10       0.004745          1  \n",
       "11       0.004741          1  \n",
       "12       0.004739          1  \n",
       "13       0.004751          1  \n",
       "14       0.004734          1  \n",
       "15       0.004715          1  \n",
       "16       0.004715          1  \n",
       "17       0.004728          0  \n",
       "18       0.004728          0  \n",
       "19       0.004745          0  \n",
       "20       0.004730          0  "
      ]
     },
     "execution_count": 3,
     "metadata": {},
     "output_type": "execute_result"
    }
   ],
   "source": [
    "#LOAD dataset\n",
    "dataset = pd.read_csv('datatraining.txt')\n",
    "test1 = pd.read_csv('datatest.txt')\n",
    "test2 = pd.read_csv('datatest2.txt')\n",
    "dataset.head(20)"
   ]
  },
  {
   "cell_type": "code",
   "execution_count": 4,
   "metadata": {},
   "outputs": [
    {
     "data": {
      "text/html": [
       "<div>\n",
       "<style scoped>\n",
       "    .dataframe tbody tr th:only-of-type {\n",
       "        vertical-align: middle;\n",
       "    }\n",
       "\n",
       "    .dataframe tbody tr th {\n",
       "        vertical-align: top;\n",
       "    }\n",
       "\n",
       "    .dataframe thead th {\n",
       "        text-align: right;\n",
       "    }\n",
       "</style>\n",
       "<table border=\"1\" class=\"dataframe\">\n",
       "  <thead>\n",
       "    <tr style=\"text-align: right;\">\n",
       "      <th></th>\n",
       "      <th>date</th>\n",
       "      <th>Temperature</th>\n",
       "      <th>Humidity</th>\n",
       "      <th>Light</th>\n",
       "      <th>CO2</th>\n",
       "      <th>HumidityRatio</th>\n",
       "      <th>Occupancy</th>\n",
       "    </tr>\n",
       "  </thead>\n",
       "  <tbody>\n",
       "    <tr>\n",
       "      <th>140</th>\n",
       "      <td>2015-02-02 14:19:00</td>\n",
       "      <td>23.7000</td>\n",
       "      <td>26.272</td>\n",
       "      <td>585.200000</td>\n",
       "      <td>749.200000</td>\n",
       "      <td>0.004764</td>\n",
       "      <td>1</td>\n",
       "    </tr>\n",
       "    <tr>\n",
       "      <th>141</th>\n",
       "      <td>2015-02-02 14:19:59</td>\n",
       "      <td>23.7180</td>\n",
       "      <td>26.290</td>\n",
       "      <td>578.400000</td>\n",
       "      <td>760.400000</td>\n",
       "      <td>0.004773</td>\n",
       "      <td>1</td>\n",
       "    </tr>\n",
       "    <tr>\n",
       "      <th>142</th>\n",
       "      <td>2015-02-02 14:21:00</td>\n",
       "      <td>23.7300</td>\n",
       "      <td>26.230</td>\n",
       "      <td>572.666667</td>\n",
       "      <td>769.666667</td>\n",
       "      <td>0.004765</td>\n",
       "      <td>1</td>\n",
       "    </tr>\n",
       "    <tr>\n",
       "      <th>143</th>\n",
       "      <td>2015-02-02 14:22:00</td>\n",
       "      <td>23.7225</td>\n",
       "      <td>26.125</td>\n",
       "      <td>493.750000</td>\n",
       "      <td>774.750000</td>\n",
       "      <td>0.004744</td>\n",
       "      <td>1</td>\n",
       "    </tr>\n",
       "    <tr>\n",
       "      <th>144</th>\n",
       "      <td>2015-02-02 14:23:00</td>\n",
       "      <td>23.7540</td>\n",
       "      <td>26.200</td>\n",
       "      <td>488.600000</td>\n",
       "      <td>779.000000</td>\n",
       "      <td>0.004767</td>\n",
       "      <td>1</td>\n",
       "    </tr>\n",
       "  </tbody>\n",
       "</table>\n",
       "</div>"
      ],
      "text/plain": [
       "                    date  Temperature  Humidity       Light         CO2  \\\n",
       "140  2015-02-02 14:19:00      23.7000    26.272  585.200000  749.200000   \n",
       "141  2015-02-02 14:19:59      23.7180    26.290  578.400000  760.400000   \n",
       "142  2015-02-02 14:21:00      23.7300    26.230  572.666667  769.666667   \n",
       "143  2015-02-02 14:22:00      23.7225    26.125  493.750000  774.750000   \n",
       "144  2015-02-02 14:23:00      23.7540    26.200  488.600000  779.000000   \n",
       "\n",
       "     HumidityRatio  Occupancy  \n",
       "140       0.004764          1  \n",
       "141       0.004773          1  \n",
       "142       0.004765          1  \n",
       "143       0.004744          1  \n",
       "144       0.004767          1  "
      ]
     },
     "execution_count": 4,
     "metadata": {},
     "output_type": "execute_result"
    }
   ],
   "source": [
    "test1.head()"
   ]
  },
  {
   "cell_type": "code",
   "execution_count": 5,
   "metadata": {},
   "outputs": [
    {
     "data": {
      "text/html": [
       "<div>\n",
       "<style scoped>\n",
       "    .dataframe tbody tr th:only-of-type {\n",
       "        vertical-align: middle;\n",
       "    }\n",
       "\n",
       "    .dataframe tbody tr th {\n",
       "        vertical-align: top;\n",
       "    }\n",
       "\n",
       "    .dataframe thead th {\n",
       "        text-align: right;\n",
       "    }\n",
       "</style>\n",
       "<table border=\"1\" class=\"dataframe\">\n",
       "  <thead>\n",
       "    <tr style=\"text-align: right;\">\n",
       "      <th></th>\n",
       "      <th>date</th>\n",
       "      <th>Temperature</th>\n",
       "      <th>Humidity</th>\n",
       "      <th>Light</th>\n",
       "      <th>CO2</th>\n",
       "      <th>HumidityRatio</th>\n",
       "      <th>Occupancy</th>\n",
       "    </tr>\n",
       "  </thead>\n",
       "  <tbody>\n",
       "    <tr>\n",
       "      <th>1</th>\n",
       "      <td>2015-02-11 14:48:00</td>\n",
       "      <td>21.7600</td>\n",
       "      <td>31.133333</td>\n",
       "      <td>437.333333</td>\n",
       "      <td>1029.666667</td>\n",
       "      <td>0.005021</td>\n",
       "      <td>1</td>\n",
       "    </tr>\n",
       "    <tr>\n",
       "      <th>2</th>\n",
       "      <td>2015-02-11 14:49:00</td>\n",
       "      <td>21.7900</td>\n",
       "      <td>31.000000</td>\n",
       "      <td>437.333333</td>\n",
       "      <td>1000.000000</td>\n",
       "      <td>0.005009</td>\n",
       "      <td>1</td>\n",
       "    </tr>\n",
       "    <tr>\n",
       "      <th>3</th>\n",
       "      <td>2015-02-11 14:50:00</td>\n",
       "      <td>21.7675</td>\n",
       "      <td>31.122500</td>\n",
       "      <td>434.000000</td>\n",
       "      <td>1003.750000</td>\n",
       "      <td>0.005022</td>\n",
       "      <td>1</td>\n",
       "    </tr>\n",
       "    <tr>\n",
       "      <th>4</th>\n",
       "      <td>2015-02-11 14:51:00</td>\n",
       "      <td>21.7675</td>\n",
       "      <td>31.122500</td>\n",
       "      <td>439.000000</td>\n",
       "      <td>1009.500000</td>\n",
       "      <td>0.005022</td>\n",
       "      <td>1</td>\n",
       "    </tr>\n",
       "    <tr>\n",
       "      <th>5</th>\n",
       "      <td>2015-02-11 14:51:59</td>\n",
       "      <td>21.7900</td>\n",
       "      <td>31.133333</td>\n",
       "      <td>437.333333</td>\n",
       "      <td>1005.666667</td>\n",
       "      <td>0.005030</td>\n",
       "      <td>1</td>\n",
       "    </tr>\n",
       "  </tbody>\n",
       "</table>\n",
       "</div>"
      ],
      "text/plain": [
       "                  date  Temperature   Humidity       Light          CO2  \\\n",
       "1  2015-02-11 14:48:00      21.7600  31.133333  437.333333  1029.666667   \n",
       "2  2015-02-11 14:49:00      21.7900  31.000000  437.333333  1000.000000   \n",
       "3  2015-02-11 14:50:00      21.7675  31.122500  434.000000  1003.750000   \n",
       "4  2015-02-11 14:51:00      21.7675  31.122500  439.000000  1009.500000   \n",
       "5  2015-02-11 14:51:59      21.7900  31.133333  437.333333  1005.666667   \n",
       "\n",
       "   HumidityRatio  Occupancy  \n",
       "1       0.005021          1  \n",
       "2       0.005009          1  \n",
       "3       0.005022          1  \n",
       "4       0.005022          1  \n",
       "5       0.005030          1  "
      ]
     },
     "execution_count": 5,
     "metadata": {},
     "output_type": "execute_result"
    }
   ],
   "source": [
    "test2.head()"
   ]
  },
  {
   "cell_type": "code",
   "execution_count": 6,
   "metadata": {},
   "outputs": [
    {
     "name": "stdout",
     "output_type": "stream",
     "text": [
      "<class 'pandas.core.frame.DataFrame'>\n",
      "Int64Index: 8143 entries, 1 to 8143\n",
      "Data columns (total 7 columns):\n",
      "date             8143 non-null object\n",
      "Temperature      8143 non-null float64\n",
      "Humidity         8143 non-null float64\n",
      "Light            8143 non-null float64\n",
      "CO2              8143 non-null float64\n",
      "HumidityRatio    8143 non-null float64\n",
      "Occupancy        8143 non-null int64\n",
      "dtypes: float64(5), int64(1), object(1)\n",
      "memory usage: 508.9+ KB\n"
     ]
    }
   ],
   "source": [
    "#Info of Dataset\n",
    "dataset.info()"
   ]
  },
  {
   "cell_type": "code",
   "execution_count": 7,
   "metadata": {},
   "outputs": [
    {
     "data": {
      "text/plain": [
       "0"
      ]
     },
     "execution_count": 7,
     "metadata": {},
     "output_type": "execute_result"
    }
   ],
   "source": [
    "#Count missing values\n",
    "np.count_nonzero(dataset.isnull().values)  "
   ]
  },
  {
   "cell_type": "code",
   "execution_count": 8,
   "metadata": {},
   "outputs": [
    {
     "data": {
      "text/plain": [
       "array([[<matplotlib.axes._subplots.AxesSubplot object at 0x00000227790A5390>,\n",
       "        <matplotlib.axes._subplots.AxesSubplot object at 0x00000227794499B0>,\n",
       "        <matplotlib.axes._subplots.AxesSubplot object at 0x000002277947F080>,\n",
       "        <matplotlib.axes._subplots.AxesSubplot object at 0x00000227794A7710>,\n",
       "        <matplotlib.axes._subplots.AxesSubplot object at 0x00000227794CADA0>,\n",
       "        <matplotlib.axes._subplots.AxesSubplot object at 0x00000227794CADD8>],\n",
       "       [<matplotlib.axes._subplots.AxesSubplot object at 0x00000227795249E8>,\n",
       "        <matplotlib.axes._subplots.AxesSubplot object at 0x00000227795550B8>,\n",
       "        <matplotlib.axes._subplots.AxesSubplot object at 0x000002277957F748>,\n",
       "        <matplotlib.axes._subplots.AxesSubplot object at 0x00000227795A7DD8>,\n",
       "        <matplotlib.axes._subplots.AxesSubplot object at 0x00000227795D74A8>,\n",
       "        <matplotlib.axes._subplots.AxesSubplot object at 0x00000227795FDB00>],\n",
       "       [<matplotlib.axes._subplots.AxesSubplot object at 0x000002277962F1D0>,\n",
       "        <matplotlib.axes._subplots.AxesSubplot object at 0x0000022779656860>,\n",
       "        <matplotlib.axes._subplots.AxesSubplot object at 0x000002277967DEF0>,\n",
       "        <matplotlib.axes._subplots.AxesSubplot object at 0x00000227796AF5C0>,\n",
       "        <matplotlib.axes._subplots.AxesSubplot object at 0x00000227796D7C50>,\n",
       "        <matplotlib.axes._subplots.AxesSubplot object at 0x000002277970A320>],\n",
       "       [<matplotlib.axes._subplots.AxesSubplot object at 0x000002277972E9B0>,\n",
       "        <matplotlib.axes._subplots.AxesSubplot object at 0x0000022779761080>,\n",
       "        <matplotlib.axes._subplots.AxesSubplot object at 0x0000022779788710>,\n",
       "        <matplotlib.axes._subplots.AxesSubplot object at 0x00000227797B0DA0>,\n",
       "        <matplotlib.axes._subplots.AxesSubplot object at 0x00000227797E3470>,\n",
       "        <matplotlib.axes._subplots.AxesSubplot object at 0x0000022779808B00>],\n",
       "       [<matplotlib.axes._subplots.AxesSubplot object at 0x000002277983B1D0>,\n",
       "        <matplotlib.axes._subplots.AxesSubplot object at 0x0000022779862860>,\n",
       "        <matplotlib.axes._subplots.AxesSubplot object at 0x0000022779889EF0>,\n",
       "        <matplotlib.axes._subplots.AxesSubplot object at 0x00000227798BB5C0>,\n",
       "        <matplotlib.axes._subplots.AxesSubplot object at 0x00000227798E1C50>,\n",
       "        <matplotlib.axes._subplots.AxesSubplot object at 0x0000022779912320>],\n",
       "       [<matplotlib.axes._subplots.AxesSubplot object at 0x00000227799399B0>,\n",
       "        <matplotlib.axes._subplots.AxesSubplot object at 0x000002277996D080>,\n",
       "        <matplotlib.axes._subplots.AxesSubplot object at 0x0000022778F98710>,\n",
       "        <matplotlib.axes._subplots.AxesSubplot object at 0x00000227799B9DA0>,\n",
       "        <matplotlib.axes._subplots.AxesSubplot object at 0x00000227799EA470>,\n",
       "        <matplotlib.axes._subplots.AxesSubplot object at 0x0000022779A13B00>]],\n",
       "      dtype=object)"
      ]
     },
     "execution_count": 8,
     "metadata": {},
     "output_type": "execute_result"
    },
    {
     "data": {
      "image/png": "[encoded data removed]",
      "text/plain": [
       "<Figure size 720x720 with 36 Axes>"
      ]
     },
     "metadata": {},
     "output_type": "display_data"
    }
   ],
   "source": [
    "#Visualise\n",
    "pd.plotting.scatter_matrix(dataset,c= dataset['Occupancy'],figsize=[10,10])"
   ]
  },
  {
   "cell_type": "code",
   "execution_count": 9,
   "metadata": {},
   "outputs": [],
   "source": [
    "#CONVERT Date Object to datatime Object\n",
    "dataset['date'] = pd.to_datetime(dataset['date'])\n",
    "test1['date'] = pd.to_datetime(test1['date'])\n",
    "test2['date'] = pd.to_datetime(test2['date'])"
   ]
  },
  {
   "cell_type": "markdown",
   "metadata": {},
   "source": [
    "### DATASET INFO AFTER CONVERSION"
   ]
  },
  {
   "cell_type": "code",
   "execution_count": 10,
   "metadata": {},
   "outputs": [
    {
     "name": "stdout",
     "output_type": "stream",
     "text": [
      "<class 'pandas.core.frame.DataFrame'>\n",
      "Int64Index: 8143 entries, 1 to 8143\n",
      "Data columns (total 7 columns):\n",
      "date             8143 non-null datetime64[ns]\n",
      "Temperature      8143 non-null float64\n",
      "Humidity         8143 non-null float64\n",
      "Light            8143 non-null float64\n",
      "CO2              8143 non-null float64\n",
      "HumidityRatio    8143 non-null float64\n",
      "Occupancy        8143 non-null int64\n",
      "dtypes: datetime64[ns](1), float64(5), int64(1)\n",
      "memory usage: 508.9 KB\n"
     ]
    }
   ],
   "source": [
    "dataset.info()"
   ]
  },
  {
   "cell_type": "code",
   "execution_count": 11,
   "metadata": {},
   "outputs": [
    {
     "name": "stdout",
     "output_type": "stream",
     "text": [
      "<class 'pandas.core.frame.DataFrame'>\n",
      "Int64Index: 2665 entries, 140 to 2804\n",
      "Data columns (total 7 columns):\n",
      "date             2665 non-null datetime64[ns]\n",
      "Temperature      2665 non-null float64\n",
      "Humidity         2665 non-null float64\n",
      "Light            2665 non-null float64\n",
      "CO2              2665 non-null float64\n",
      "HumidityRatio    2665 non-null float64\n",
      "Occupancy        2665 non-null int64\n",
      "dtypes: datetime64[ns](1), float64(5), int64(1)\n",
      "memory usage: 166.6 KB\n"
     ]
    }
   ],
   "source": [
    "test1.info()"
   ]
  },
  {
   "cell_type": "code",
   "execution_count": 12,
   "metadata": {},
   "outputs": [
    {
     "name": "stdout",
     "output_type": "stream",
     "text": [
      "<class 'pandas.core.frame.DataFrame'>\n",
      "Int64Index: 9752 entries, 1 to 9752\n",
      "Data columns (total 7 columns):\n",
      "date             9752 non-null datetime64[ns]\n",
      "Temperature      9752 non-null float64\n",
      "Humidity         9752 non-null float64\n",
      "Light            9752 non-null float64\n",
      "CO2              9752 non-null float64\n",
      "HumidityRatio    9752 non-null float64\n",
      "Occupancy        9752 non-null int64\n",
      "dtypes: datetime64[ns](1), float64(5), int64(1)\n",
      "memory usage: 609.5 KB\n"
     ]
    }
   ],
   "source": [
    "test2.info()"
   ]
  },
  {
   "cell_type": "code",
   "execution_count": 13,
   "metadata": {},
   "outputs": [],
   "source": [
    "X_train = dataset.iloc[:,1:6].values\n",
    "y_train = dataset.iloc[:,6].values"
   ]
  },
  {
   "cell_type": "code",
   "execution_count": 14,
   "metadata": {},
   "outputs": [],
   "source": [
    "X_test1 = test1.iloc[:,1:6].values\n",
    "y_test1 = test1.iloc[:,6].values\n",
    "\n",
    "X_test2 = test2.iloc[:,1:6].values\n",
    "y_test2 = test2.iloc[:,6].values"
   ]
  },
  {
   "cell_type": "markdown",
   "metadata": {},
   "source": [
    "## Logistic Regression"
   ]
  },
  {
   "cell_type": "code",
   "execution_count": 15,
   "metadata": {},
   "outputs": [],
   "source": [
    "from sklearn.linear_model import LogisticRegression"
   ]
  },
  {
   "cell_type": "code",
   "execution_count": 16,
   "metadata": {},
   "outputs": [],
   "source": [
    "regressor = LogisticRegression()"
   ]
  },
  {
   "cell_type": "code",
   "execution_count": 17,
   "metadata": {},
   "outputs": [
    {
     "data": {
      "text/plain": [
       "LogisticRegression(C=1.0, class_weight=None, dual=False, fit_intercept=True,\n",
       "          intercept_scaling=1, max_iter=100, multi_class='ovr', n_jobs=1,\n",
       "          penalty='l2', random_state=None, solver='liblinear', tol=0.0001,\n",
       "          verbose=0, warm_start=False)"
      ]
     },
     "execution_count": 17,
     "metadata": {},
     "output_type": "execute_result"
    }
   ],
   "source": [
    "regressor.fit(X_train,y_train)"
   ]
  },
  {
   "cell_type": "code",
   "execution_count": 18,
   "metadata": {},
   "outputs": [],
   "source": [
    "#PREDICTOR for training\n",
    "y_predictor = regressor.predict(X_train)"
   ]
  },
  {
   "cell_type": "code",
   "execution_count": 19,
   "metadata": {},
   "outputs": [
    {
     "data": {
      "text/plain": [
       "array([1, 1, 1, ..., 1, 1, 1], dtype=int64)"
      ]
     },
     "execution_count": 19,
     "metadata": {},
     "output_type": "execute_result"
    }
   ],
   "source": [
    "y_predictor"
   ]
  },
  {
   "cell_type": "code",
   "execution_count": 20,
   "metadata": {},
   "outputs": [],
   "source": [
    "# CONFUSION MATRIX"
   ]
  },
  {
   "cell_type": "code",
   "execution_count": 21,
   "metadata": {},
   "outputs": [],
   "source": [
    "from sklearn.metrics import confusion_matrix"
   ]
  },
  {
   "cell_type": "code",
   "execution_count": 22,
   "metadata": {},
   "outputs": [
    {
     "name": "stdout",
     "output_type": "stream",
     "text": [
      "Training Confusion Matrix\n",
      " [[6324   90]\n",
      " [   5 1724]]\n",
      "Test1 Confusion Matrix\n",
      " [[1638   55]\n",
      " [   3  969]]\n",
      "Test2 Confusion Matrix\n",
      " [[7646   57]\n",
      " [  12 2037]]\n"
     ]
    }
   ],
   "source": [
    "print(\"Training Confusion Matrix\\n\", confusion_matrix(y_train,regressor.predict(X_train)))\n",
    "print(\"Test1 Confusion Matrix\\n\", confusion_matrix(y_test1,regressor.predict(X_test1)))\n",
    "print(\"Test2 Confusion Matrix\\n\", confusion_matrix(y_test2,regressor.predict(X_test2)))"
   ]
  },
  {
   "cell_type": "code",
   "execution_count": 23,
   "metadata": {},
   "outputs": [
    {
     "name": "stdout",
     "output_type": "stream",
     "text": [
      "Training Accuracy\n",
      " 0.9883335380081051\n",
      "Test1 Accuracy\n",
      " 0.9782363977485928\n",
      "Test2 Accuracy\n",
      " 0.9929245283018868\n"
     ]
    }
   ],
   "source": [
    "from sklearn.metrics import accuracy_score\n",
    "print(\"Training Accuracy\\n\", accuracy_score(y_train,regressor.predict(X_train)))\n",
    "print(\"Test1 Accuracy\\n\", accuracy_score(y_test1,regressor.predict(X_test1)))\n",
    "print(\"Test2 Accuracy\\n\", accuracy_score(y_test2,regressor.predict(X_test2)))"
   ]
  },
  {
   "cell_type": "code",
   "execution_count": 24,
   "metadata": {},
   "outputs": [
    {
     "name": "stdout",
     "output_type": "stream",
     "text": [
      "CLASSIFICATION REPORT\n",
      "Training\n",
      "              precision    recall  f1-score   support\n",
      "\n",
      "          0       1.00      0.99      0.99      6414\n",
      "          1       0.95      1.00      0.97      1729\n",
      "\n",
      "avg / total       0.99      0.99      0.99      8143\n",
      "\n",
      "Test1 \n",
      "              precision    recall  f1-score   support\n",
      "\n",
      "          0       1.00      0.97      0.98      1693\n",
      "          1       0.95      1.00      0.97       972\n",
      "\n",
      "avg / total       0.98      0.98      0.98      2665\n",
      "\n",
      "Test2 \n",
      "              precision    recall  f1-score   support\n",
      "\n",
      "          0       1.00      0.99      1.00      7703\n",
      "          1       0.97      0.99      0.98      2049\n",
      "\n",
      "avg / total       0.99      0.99      0.99      9752\n",
      "\n"
     ]
    }
   ],
   "source": [
    "from sklearn.metrics import classification_report\n",
    "print('CLASSIFICATION REPORT')\n",
    "print(\"Training\\n\", classification_report(y_train,regressor.predict(X_train)))\n",
    "print(\"Test1 \\n\", classification_report(y_test1,regressor.predict(X_test1)))\n",
    "print(\"Test2 \\n\", classification_report(y_test2,regressor.predict(X_test2)))"
   ]
  },
  {
   "cell_type": "markdown",
   "metadata": {},
   "source": [
    "#### Logistic regression has a very good accuracy but it seems to be overfitted. Test2 has accuracy of 0.9929"
   ]
  },
  {
   "cell_type": "markdown",
   "metadata": {},
   "source": [
    "## Decision Tree"
   ]
  },
  {
   "cell_type": "code",
   "execution_count": 25,
   "metadata": {},
   "outputs": [],
   "source": [
    "from sklearn.tree import DecisionTreeClassifier"
   ]
  },
  {
   "cell_type": "code",
   "execution_count": 26,
   "metadata": {},
   "outputs": [],
   "source": [
    "classifier = DecisionTreeClassifier()"
   ]
  },
  {
   "cell_type": "code",
   "execution_count": 27,
   "metadata": {},
   "outputs": [
    {
     "data": {
      "text/plain": [
       "DecisionTreeClassifier(class_weight=None, criterion='gini', max_depth=None,\n",
       "            max_features=None, max_leaf_nodes=None,\n",
       "            min_impurity_decrease=0.0, min_impurity_split=None,\n",
       "            min_samples_leaf=1, min_samples_split=2,\n",
       "            min_weight_fraction_leaf=0.0, presort=False, random_state=None,\n",
       "            splitter='best')"
      ]
     },
     "execution_count": 27,
     "metadata": {},
     "output_type": "execute_result"
    }
   ],
   "source": [
    "classifier.fit(X_train,y_train)"
   ]
  },
  {
   "cell_type": "code",
   "execution_count": 28,
   "metadata": {},
   "outputs": [
    {
     "name": "stdout",
     "output_type": "stream",
     "text": [
      "Training Confusion Matrix\n",
      " [[6414    0]\n",
      " [   0 1729]]\n",
      "Test1 Confusion Matrix\n",
      " [[1643   50]\n",
      " [ 199  773]]\n",
      "Test2 Confusion Matrix\n",
      " [[7390  313]\n",
      " [ 321 1728]]\n"
     ]
    }
   ],
   "source": [
    "print(\"Training Confusion Matrix\\n\", confusion_matrix(y_train,classifier.predict(X_train)))\n",
    "print(\"Test1 Confusion Matrix\\n\", confusion_matrix(y_test1,classifier.predict(X_test1)))\n",
    "print(\"Test2 Confusion Matrix\\n\", confusion_matrix(y_test2,classifier.predict(X_test2)))"
   ]
  },
  {
   "cell_type": "code",
   "execution_count": 29,
   "metadata": {},
   "outputs": [
    {
     "name": "stdout",
     "output_type": "stream",
     "text": [
      "Training Accuracy\n",
      " 1.0\n",
      "Test1 Accuracy\n",
      " 0.9065666041275797\n",
      "Test2 Accuracy\n",
      " 0.9349876948318294\n"
     ]
    }
   ],
   "source": [
    "from sklearn.metrics import accuracy_score\n",
    "print(\"Training Accuracy\\n\", accuracy_score(y_train,classifier.predict(X_train)))\n",
    "print(\"Test1 Accuracy\\n\", accuracy_score(y_test1,classifier.predict(X_test1)))\n",
    "print(\"Test2 Accuracy\\n\", accuracy_score(y_test2,classifier.predict(X_test2)))"
   ]
  },
  {
   "cell_type": "code",
   "execution_count": 30,
   "metadata": {},
   "outputs": [
    {
     "name": "stdout",
     "output_type": "stream",
     "text": [
      "CLASSIFICATION REPORT\n",
      "Training\n",
      "              precision    recall  f1-score   support\n",
      "\n",
      "          0       1.00      1.00      1.00      6414\n",
      "          1       1.00      1.00      1.00      1729\n",
      "\n",
      "avg / total       1.00      1.00      1.00      8143\n",
      "\n",
      "Test1 \n",
      "              precision    recall  f1-score   support\n",
      "\n",
      "          0       0.89      0.97      0.93      1693\n",
      "          1       0.94      0.80      0.86       972\n",
      "\n",
      "avg / total       0.91      0.91      0.90      2665\n",
      "\n",
      "Test2 \n",
      "              precision    recall  f1-score   support\n",
      "\n",
      "          0       0.96      0.96      0.96      7703\n",
      "          1       0.85      0.84      0.84      2049\n",
      "\n",
      "avg / total       0.93      0.93      0.93      9752\n",
      "\n"
     ]
    }
   ],
   "source": [
    "from sklearn.metrics import classification_report\n",
    "print('CLASSIFICATION REPORT')\n",
    "print(\"Training\\n\", classification_report(y_train,classifier.predict(X_train)))\n",
    "print(\"Test1 \\n\", classification_report(y_test1,classifier.predict(X_test1)))\n",
    "print(\"Test2 \\n\", classification_report(y_test2,classifier.predict(X_test2)))"
   ]
  },
  {
   "cell_type": "markdown",
   "metadata": {},
   "source": [
    "### In decision tree classifier Accuracy of training dataset is 100%, seems overfitted.\n"
   ]
  },
  {
   "cell_type": "markdown",
   "metadata": {},
   "source": [
    "## Naive Bayes"
   ]
  },
  {
   "cell_type": "code",
   "execution_count": 31,
   "metadata": {},
   "outputs": [],
   "source": [
    "from sklearn.naive_bayes import GaussianNB"
   ]
  },
  {
   "cell_type": "code",
   "execution_count": 32,
   "metadata": {},
   "outputs": [],
   "source": [
    "gb = GaussianNB()"
   ]
  },
  {
   "cell_type": "code",
   "execution_count": 33,
   "metadata": {},
   "outputs": [
    {
     "data": {
      "text/plain": [
       "GaussianNB(priors=None)"
      ]
     },
     "execution_count": 33,
     "metadata": {},
     "output_type": "execute_result"
    }
   ],
   "source": [
    "gb.fit(X_train,y_train)"
   ]
  },
  {
   "cell_type": "code",
   "execution_count": 34,
   "metadata": {},
   "outputs": [
    {
     "name": "stdout",
     "output_type": "stream",
     "text": [
      "Training Confusion Matrix\n",
      " [[6243  171]\n",
      " [   8 1721]]\n",
      "Test1 Confusion Matrix\n",
      " [[1638   55]\n",
      " [   5  967]]\n",
      "Test2 Confusion Matrix\n",
      " [[7596  107]\n",
      " [  14 2035]]\n"
     ]
    }
   ],
   "source": [
    "print(\"Training Confusion Matrix\\n\", confusion_matrix(y_train,gb.predict(X_train)))\n",
    "print(\"Test1 Confusion Matrix\\n\", confusion_matrix(y_test1,gb.predict(X_test1)))\n",
    "print(\"Test2 Confusion Matrix\\n\", confusion_matrix(y_test2,gb.predict(X_test2)))"
   ]
  },
  {
   "cell_type": "code",
   "execution_count": 35,
   "metadata": {},
   "outputs": [
    {
     "name": "stdout",
     "output_type": "stream",
     "text": [
      "Training Accuracy\n",
      " 0.9780179295100085\n",
      "Test1 Accuracy\n",
      " 0.9774859287054409\n",
      "Test2 Accuracy\n",
      " 0.9875922887612797\n"
     ]
    }
   ],
   "source": [
    "print(\"Training Accuracy\\n\", accuracy_score(y_train,gb.predict(X_train)))\n",
    "print(\"Test1 Accuracy\\n\", accuracy_score(y_test1,gb.predict(X_test1)))\n",
    "print(\"Test2 Accuracy\\n\", accuracy_score(y_test2,gb.predict(X_test2)))"
   ]
  },
  {
   "cell_type": "code",
   "execution_count": 36,
   "metadata": {},
   "outputs": [
    {
     "name": "stdout",
     "output_type": "stream",
     "text": [
      "CLASSIFICATION REPORT\n",
      "Training\n",
      "              precision    recall  f1-score   support\n",
      "\n",
      "          0       1.00      0.97      0.99      6414\n",
      "          1       0.91      1.00      0.95      1729\n",
      "\n",
      "avg / total       0.98      0.98      0.98      8143\n",
      "\n",
      "Test1 \n",
      "              precision    recall  f1-score   support\n",
      "\n",
      "          0       1.00      0.97      0.98      1693\n",
      "          1       0.95      0.99      0.97       972\n",
      "\n",
      "avg / total       0.98      0.98      0.98      2665\n",
      "\n",
      "Test2 \n",
      "              precision    recall  f1-score   support\n",
      "\n",
      "          0       1.00      0.99      0.99      7703\n",
      "          1       0.95      0.99      0.97      2049\n",
      "\n",
      "avg / total       0.99      0.99      0.99      9752\n",
      "\n"
     ]
    }
   ],
   "source": [
    "print('CLASSIFICATION REPORT')\n",
    "print(\"Training\\n\", classification_report(y_train,gb.predict(X_train)))\n",
    "print(\"Test1 \\n\", classification_report(y_test1,gb.predict(X_test1)))\n",
    "print(\"Test2 \\n\", classification_report(y_test2,gb.predict(X_test2)))"
   ]
  },
  {
   "cell_type": "markdown",
   "metadata": {},
   "source": [
    "### This seems pretty good but let us futher try KNN."
   ]
  },
  {
   "cell_type": "markdown",
   "metadata": {},
   "source": [
    "## KNN Algorithm"
   ]
  },
  {
   "cell_type": "code",
   "execution_count": 37,
   "metadata": {},
   "outputs": [],
   "source": [
    "#KNN Alogorithm\n",
    "from sklearn.neighbors import KNeighborsClassifier"
   ]
  },
  {
   "cell_type": "code",
   "execution_count": 38,
   "metadata": {},
   "outputs": [],
   "source": [
    "classifier = KNeighborsClassifier(n_neighbors=5,p=2, metric='minkowski')"
   ]
  },
  {
   "cell_type": "code",
   "execution_count": 39,
   "metadata": {},
   "outputs": [
    {
     "data": {
      "text/plain": [
       "KNeighborsClassifier(algorithm='auto', leaf_size=30, metric='minkowski',\n",
       "           metric_params=None, n_jobs=1, n_neighbors=5, p=2,\n",
       "           weights='uniform')"
      ]
     },
     "execution_count": 39,
     "metadata": {},
     "output_type": "execute_result"
    }
   ],
   "source": [
    "classifier.fit(X_train,y_train)"
   ]
  },
  {
   "cell_type": "code",
   "execution_count": 40,
   "metadata": {},
   "outputs": [
    {
     "name": "stdout",
     "output_type": "stream",
     "text": [
      "Training Confusion Matrix\n",
      " [[6361   53]\n",
      " [  11 1718]]\n",
      "Test1 Confusion Matrix\n",
      " [[1645   48]\n",
      " [ 105  867]]\n",
      "Test2 Confusion Matrix\n",
      " [[7385  318]\n",
      " [  51 1998]]\n"
     ]
    }
   ],
   "source": [
    "print(\"Training Confusion Matrix\\n\", confusion_matrix(y_train,classifier.predict(X_train)))\n",
    "print(\"Test1 Confusion Matrix\\n\", confusion_matrix(y_test1,classifier.predict(X_test1)))\n",
    "print(\"Test2 Confusion Matrix\\n\", confusion_matrix(y_test2,classifier.predict(X_test2)))"
   ]
  },
  {
   "cell_type": "code",
   "execution_count": 41,
   "metadata": {},
   "outputs": [
    {
     "name": "stdout",
     "output_type": "stream",
     "text": [
      "Training Accuracy\n",
      " 0.992140488763355\n",
      "Test1 Accuracy\n",
      " 0.9425891181988743\n",
      "Test2 Accuracy\n",
      " 0.9621616078753076\n"
     ]
    }
   ],
   "source": [
    "print(\"Training Accuracy\\n\", accuracy_score(y_train,classifier.predict(X_train)))\n",
    "print(\"Test1 Accuracy\\n\", accuracy_score(y_test1,classifier.predict(X_test1)))\n",
    "print(\"Test2 Accuracy\\n\", accuracy_score(y_test2,classifier.predict(X_test2)))"
   ]
  },
  {
   "cell_type": "code",
   "execution_count": 42,
   "metadata": {},
   "outputs": [
    {
     "name": "stdout",
     "output_type": "stream",
     "text": [
      "CLASSIFICATION REPORT\n",
      "Training\n",
      "              precision    recall  f1-score   support\n",
      "\n",
      "          0       1.00      0.99      0.99      6414\n",
      "          1       0.97      0.99      0.98      1729\n",
      "\n",
      "avg / total       0.99      0.99      0.99      8143\n",
      "\n",
      "Test1 \n",
      "              precision    recall  f1-score   support\n",
      "\n",
      "          0       0.94      0.97      0.96      1693\n",
      "          1       0.95      0.89      0.92       972\n",
      "\n",
      "avg / total       0.94      0.94      0.94      2665\n",
      "\n",
      "Test2 \n",
      "              precision    recall  f1-score   support\n",
      "\n",
      "          0       0.99      0.96      0.98      7703\n",
      "          1       0.86      0.98      0.92      2049\n",
      "\n",
      "avg / total       0.97      0.96      0.96      9752\n",
      "\n"
     ]
    }
   ],
   "source": [
    "print('CLASSIFICATION REPORT')\n",
    "print(\"Training\\n\", classification_report(y_train,classifier.predict(X_train)))\n",
    "print(\"Test1 \\n\", classification_report(y_test1,classifier.predict(X_test1)))\n",
    "print(\"Test2 \\n\", classification_report(y_test2,classifier.predict(X_test2)))"
   ]
  },
  {
   "cell_type": "markdown",
   "metadata": {},
   "source": [
    "### Test 1 accuracy is less 94% as compared to others."
   ]
  },
  {
   "cell_type": "markdown",
   "metadata": {},
   "source": [
    "### After analysis all the 4 methods best is Naives Bayes.\n",
    "#### Decision tree and logistic regression do have a good accuracy but it seems to be overfitted.\n"
   ]
  },
  {
   "cell_type": "code",
   "execution_count": null,
   "metadata": {},
   "outputs": [],
   "source": []
  }
 ],
 "metadata": {
  "kernelspec": {
   "display_name": "Python 3",
   "language": "python",
   "name": "python3"
  },
  "language_info": {
   "codemirror_mode": {
    "name": "ipython",
    "version": 3
   },
   "file_extension": ".py",
   "mimetype": "text/x-python",
   "name": "python",
   "nbconvert_exporter": "python",
   "pygments_lexer": "ipython3",
   "version": "3.6.5"
  }
 },
 "nbformat": 4,
 "nbformat_minor": 2
}
