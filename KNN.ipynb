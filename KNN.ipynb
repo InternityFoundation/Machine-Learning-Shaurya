{
 "cells": [
  {
   "cell_type": "code",
   "execution_count": 1,
   "metadata": {},
   "outputs": [
    {
     "name": "stdout",
     "output_type": "stream",
     "text": [
      "['.ipynb_checkpoints', 'KNN.ipynb']\n"
     ]
    }
   ],
   "source": [
    "import os\n",
    "print(os.listdir())"
   ]
  },
  {
   "cell_type": "code",
   "execution_count": 3,
   "metadata": {},
   "outputs": [],
   "source": [
    "import numpy as np\n",
    "import pandas as pd\n",
    "import matplotlib.pyplot as plt\n",
    "%matplotlib inline"
   ]
  },
  {
   "cell_type": "code",
   "execution_count": 6,
   "metadata": {},
   "outputs": [
    {
     "data": {
      "text/html": [
       "<div>\n",
       "<style scoped>\n",
       "    .dataframe tbody tr th:only-of-type {\n",
       "        vertical-align: middle;\n",
       "    }\n",
       "\n",
       "    .dataframe tbody tr th {\n",
       "        vertical-align: top;\n",
       "    }\n",
       "\n",
       "    .dataframe thead th {\n",
       "        text-align: right;\n",
       "    }\n",
       "</style>\n",
       "<table border=\"1\" class=\"dataframe\">\n",
       "  <thead>\n",
       "    <tr style=\"text-align: right;\">\n",
       "      <th></th>\n",
       "      <th>User ID</th>\n",
       "      <th>Gender</th>\n",
       "      <th>Age</th>\n",
       "      <th>EstimatedSalary</th>\n",
       "      <th>Purchased</th>\n",
       "    </tr>\n",
       "  </thead>\n",
       "  <tbody>\n",
       "    <tr>\n",
       "      <th>0</th>\n",
       "      <td>15624510</td>\n",
       "      <td>Male</td>\n",
       "      <td>19</td>\n",
       "      <td>19000</td>\n",
       "      <td>0</td>\n",
       "    </tr>\n",
       "    <tr>\n",
       "      <th>1</th>\n",
       "      <td>15810944</td>\n",
       "      <td>Male</td>\n",
       "      <td>35</td>\n",
       "      <td>20000</td>\n",
       "      <td>0</td>\n",
       "    </tr>\n",
       "    <tr>\n",
       "      <th>2</th>\n",
       "      <td>15668575</td>\n",
       "      <td>Female</td>\n",
       "      <td>26</td>\n",
       "      <td>43000</td>\n",
       "      <td>0</td>\n",
       "    </tr>\n",
       "    <tr>\n",
       "      <th>3</th>\n",
       "      <td>15603246</td>\n",
       "      <td>Female</td>\n",
       "      <td>27</td>\n",
       "      <td>57000</td>\n",
       "      <td>0</td>\n",
       "    </tr>\n",
       "    <tr>\n",
       "      <th>4</th>\n",
       "      <td>15804002</td>\n",
       "      <td>Male</td>\n",
       "      <td>19</td>\n",
       "      <td>76000</td>\n",
       "      <td>0</td>\n",
       "    </tr>\n",
       "    <tr>\n",
       "      <th>5</th>\n",
       "      <td>15728773</td>\n",
       "      <td>Male</td>\n",
       "      <td>27</td>\n",
       "      <td>58000</td>\n",
       "      <td>0</td>\n",
       "    </tr>\n",
       "    <tr>\n",
       "      <th>6</th>\n",
       "      <td>15598044</td>\n",
       "      <td>Female</td>\n",
       "      <td>27</td>\n",
       "      <td>84000</td>\n",
       "      <td>0</td>\n",
       "    </tr>\n",
       "    <tr>\n",
       "      <th>7</th>\n",
       "      <td>15694829</td>\n",
       "      <td>Female</td>\n",
       "      <td>32</td>\n",
       "      <td>150000</td>\n",
       "      <td>1</td>\n",
       "    </tr>\n",
       "    <tr>\n",
       "      <th>8</th>\n",
       "      <td>15600575</td>\n",
       "      <td>Male</td>\n",
       "      <td>25</td>\n",
       "      <td>33000</td>\n",
       "      <td>0</td>\n",
       "    </tr>\n",
       "    <tr>\n",
       "      <th>9</th>\n",
       "      <td>15727311</td>\n",
       "      <td>Female</td>\n",
       "      <td>35</td>\n",
       "      <td>65000</td>\n",
       "      <td>0</td>\n",
       "    </tr>\n",
       "  </tbody>\n",
       "</table>\n",
       "</div>"
      ],
      "text/plain": [
       "    User ID  Gender  Age  EstimatedSalary  Purchased\n",
       "0  15624510    Male   19            19000          0\n",
       "1  15810944    Male   35            20000          0\n",
       "2  15668575  Female   26            43000          0\n",
       "3  15603246  Female   27            57000          0\n",
       "4  15804002    Male   19            76000          0\n",
       "5  15728773    Male   27            58000          0\n",
       "6  15598044  Female   27            84000          0\n",
       "7  15694829  Female   32           150000          1\n",
       "8  15600575    Male   25            33000          0\n",
       "9  15727311  Female   35            65000          0"
      ]
     },
     "execution_count": 6,
     "metadata": {},
     "output_type": "execute_result"
    }
   ],
   "source": [
    "dataset = pd.read_csv('Social_Network_Ads.csv')\n",
    "dataset.head(10)"
   ]
  },
  {
   "cell_type": "code",
   "execution_count": 5,
   "metadata": {},
   "outputs": [
    {
     "name": "stdout",
     "output_type": "stream",
     "text": [
      "<class 'pandas.core.frame.DataFrame'>\n",
      "RangeIndex: 400 entries, 0 to 399\n",
      "Data columns (total 5 columns):\n",
      "User ID            400 non-null int64\n",
      "Gender             400 non-null object\n",
      "Age                400 non-null int64\n",
      "EstimatedSalary    400 non-null int64\n",
      "Purchased          400 non-null int64\n",
      "dtypes: int64(4), object(1)\n",
      "memory usage: 15.7+ KB\n"
     ]
    }
   ],
   "source": [
    "dataset.info()"
   ]
  },
  {
   "cell_type": "code",
   "execution_count": 16,
   "metadata": {},
   "outputs": [],
   "source": [
    "#split dataset\n",
    "X = dataset.iloc[:,2:4].values\n",
    "y = dataset.iloc[:, 4].values"
   ]
  },
  {
   "cell_type": "code",
   "execution_count": 17,
   "metadata": {},
   "outputs": [
    {
     "data": {
      "text/plain": [
       "array([0, 0, 0, 0, 0, 0, 0, 1, 0, 0, 0, 0, 0, 0, 0, 0, 1, 1, 1, 1, 1, 1,\n",
       "       1, 1, 1, 1, 1, 1, 0, 0, 0, 1, 0, 0, 0, 0, 0, 0, 0, 0, 0, 0, 0, 0,\n",
       "       0, 0, 0, 0, 1, 0, 0, 0, 0, 0, 0, 0, 0, 0, 0, 0, 0, 0, 0, 1, 0, 0,\n",
       "       0, 0, 0, 0, 0, 0, 0, 0, 0, 1, 0, 0, 0, 0, 0, 0, 0, 0, 0, 1, 0, 0,\n",
       "       0, 0, 0, 0, 0, 0, 0, 0, 0, 1, 0, 0, 0, 0, 0, 1, 0, 0, 0, 0, 0, 0,\n",
       "       0, 0, 0, 0, 0, 0, 0, 0, 0, 0, 0, 0, 0, 0, 0, 0, 0, 0, 0, 0, 0, 0,\n",
       "       0, 0, 0, 0, 0, 1, 0, 0, 0, 0, 0, 0, 0, 0, 1, 0, 0, 0, 0, 0, 0, 0,\n",
       "       0, 0, 0, 0, 0, 1, 1, 0, 0, 0, 0, 0, 0, 0, 1, 0, 0, 0, 0, 0, 0, 0,\n",
       "       0, 0, 0, 0, 0, 0, 1, 0, 0, 0, 0, 0, 0, 0, 0, 0, 0, 0, 0, 0, 0, 0,\n",
       "       0, 0, 0, 0, 1, 0, 1, 0, 1, 0, 1, 0, 1, 1, 0, 0, 0, 1, 0, 0, 0, 1,\n",
       "       0, 1, 1, 1, 0, 0, 1, 1, 0, 1, 1, 0, 1, 1, 0, 1, 0, 0, 0, 1, 1, 0,\n",
       "       1, 1, 0, 1, 0, 1, 0, 1, 0, 0, 1, 1, 0, 1, 0, 0, 1, 1, 0, 1, 1, 0,\n",
       "       1, 1, 0, 0, 1, 0, 0, 1, 1, 1, 1, 1, 0, 1, 1, 1, 1, 0, 1, 1, 0, 1,\n",
       "       0, 1, 0, 1, 1, 1, 1, 0, 0, 0, 1, 1, 0, 1, 1, 1, 1, 1, 0, 0, 0, 1,\n",
       "       1, 0, 0, 1, 0, 1, 0, 1, 1, 0, 1, 0, 1, 1, 0, 1, 1, 0, 0, 0, 1, 1,\n",
       "       0, 1, 0, 0, 1, 0, 1, 0, 0, 1, 1, 0, 0, 1, 1, 0, 1, 1, 0, 0, 1, 0,\n",
       "       1, 0, 1, 1, 1, 0, 1, 0, 1, 1, 1, 0, 1, 1, 1, 1, 0, 1, 1, 1, 0, 1,\n",
       "       0, 1, 0, 0, 1, 1, 0, 1, 1, 1, 1, 1, 1, 0, 1, 1, 1, 1, 1, 1, 0, 1,\n",
       "       1, 1, 0, 1], dtype=int64)"
      ]
     },
     "execution_count": 17,
     "metadata": {},
     "output_type": "execute_result"
    }
   ],
   "source": [
    "y"
   ]
  },
  {
   "cell_type": "code",
   "execution_count": 20,
   "metadata": {},
   "outputs": [],
   "source": [
    "from sklearn.model_selection import train_test_split\n",
    "X_train,X_test,y_train,y_test = train_test_split(X,y,test_size = 0.2)"
   ]
  },
  {
   "cell_type": "code",
   "execution_count": 21,
   "metadata": {},
   "outputs": [
    {
     "data": {
      "text/plain": [
       "array([0, 0, 0, 0, 1, 1, 0, 1, 1, 1, 1, 0, 0, 0, 0, 0, 0, 0, 0, 1, 0, 1,\n",
       "       0, 0, 0, 1, 1, 0, 0, 0, 0, 1, 1, 0, 1, 0, 1, 0, 0, 0, 0, 0, 0, 0,\n",
       "       1, 0, 0, 1, 0, 0, 0, 0, 1, 1, 1, 0, 0, 0, 0, 1, 0, 0, 1, 0, 1, 0,\n",
       "       0, 1, 1, 0, 1, 0, 1, 0, 1, 1, 0, 0, 0, 1], dtype=int64)"
      ]
     },
     "execution_count": 21,
     "metadata": {},
     "output_type": "execute_result"
    }
   ],
   "source": [
    "y_test"
   ]
  },
  {
   "cell_type": "code",
   "execution_count": 22,
   "metadata": {},
   "outputs": [
    {
     "data": {
      "text/plain": [
       "array([[    40,  65000],\n",
       "       [    33,  43000],\n",
       "       [    39,  73000],\n",
       "       [    36,  52000],\n",
       "       [    47,  51000],\n",
       "       [    50,  88000],\n",
       "       [    35,  75000],\n",
       "       [    49,  28000],\n",
       "       [    56, 133000],\n",
       "       [    36, 125000],\n",
       "       [    42, 149000],\n",
       "       [    35,  27000],\n",
       "       [    25,  80000],\n",
       "       [    50,  44000],\n",
       "       [    41,  30000],\n",
       "       [    29,  80000],\n",
       "       [    35,  22000],\n",
       "       [    29,  83000],\n",
       "       [    23,  28000],\n",
       "       [    59,  88000],\n",
       "       [    19,  21000],\n",
       "       [    31, 118000],\n",
       "       [    41,  80000],\n",
       "       [    29,  43000],\n",
       "       [    35,  75000],\n",
       "       [    53, 104000],\n",
       "       [    47, 107000],\n",
       "       [    23,  82000],\n",
       "       [    28,  85000],\n",
       "       [    41,  51000],\n",
       "       [    19,  26000],\n",
       "       [    56,  60000],\n",
       "       [    33, 149000],\n",
       "       [    20,  82000],\n",
       "       [    40,  71000],\n",
       "       [    35,  77000],\n",
       "       [    47,  50000],\n",
       "       [    27,  31000],\n",
       "       [    26,  17000],\n",
       "       [    30,  89000],\n",
       "       [    38,  50000],\n",
       "       [    28,  32000],\n",
       "       [    22,  18000],\n",
       "       [    36,  50000],\n",
       "       [    48,  35000],\n",
       "       [    29,  43000],\n",
       "       [    42,  65000],\n",
       "       [    39, 134000],\n",
       "       [    38,  61000],\n",
       "       [    28,  79000],\n",
       "       [    40,  57000],\n",
       "       [    28,  59000],\n",
       "       [    39, 122000],\n",
       "       [    48,  33000],\n",
       "       [    41,  87000],\n",
       "       [    35,  57000],\n",
       "       [    31,  66000],\n",
       "       [    41,  60000],\n",
       "       [    25,  90000],\n",
       "       [    37,  93000],\n",
       "       [    19,  25000],\n",
       "       [    35,  72000],\n",
       "       [    40, 107000],\n",
       "       [    35,  39000],\n",
       "       [    46, 117000],\n",
       "       [    37,  80000],\n",
       "       [    41,  79000],\n",
       "       [    32, 150000],\n",
       "       [    51,  23000],\n",
       "       [    38,  51000],\n",
       "       [    48,  33000],\n",
       "       [    37,  62000],\n",
       "       [    45,  22000],\n",
       "       [    35,  47000],\n",
       "       [    35,  91000],\n",
       "       [    29, 148000],\n",
       "       [    46,  74000],\n",
       "       [    37,  77000],\n",
       "       [    26,  35000],\n",
       "       [    52, 138000]], dtype=int64)"
      ]
     },
     "execution_count": 22,
     "metadata": {},
     "output_type": "execute_result"
    }
   ],
   "source": [
    "X_test"
   ]
  },
  {
   "cell_type": "code",
   "execution_count": 24,
   "metadata": {},
   "outputs": [
    {
     "name": "stderr",
     "output_type": "stream",
     "text": [
      "D:\\Anaconda3\\lib\\site-packages\\sklearn\\utils\\validation.py:475: DataConversionWarning: Data with input dtype int64 was converted to float64 by StandardScaler.\n",
      "  warnings.warn(msg, DataConversionWarning)\n"
     ]
    }
   ],
   "source": [
    "#Feature Scaling\n",
    "from sklearn.preprocessing import StandardScaler\n",
    "sc = StandardScaler()\n",
    "X_train = sc.fit_transform(X_train)\n",
    "X_test = sc.transform(X_test)"
   ]
  },
  {
   "cell_type": "code",
   "execution_count": 25,
   "metadata": {},
   "outputs": [
    {
     "data": {
      "text/plain": [
       "array([[-0.63857978, -1.62122722],\n",
       "       [-0.08025866, -1.08925338],\n",
       "       [ 2.05997229, -0.82326646],\n",
       "       [-0.17331218, -0.29129262],\n",
       "       [-0.2663657 ,  0.27023532],\n",
       "       [-0.2663657 , -1.47345671],\n",
       "       [ 0.75722301, -1.4143485 ],\n",
       "       [ 0.01279486, -0.14352211],\n",
       "       [ 0.10584838, -0.26173852],\n",
       "       [ 0.94333005,  1.45239941],\n",
       "       [-0.08025866,  0.12246481],\n",
       "       [-0.2663657 , -0.58683364],\n",
       "       [-0.2663657 , -0.35040082],\n",
       "       [ 1.59470469, -0.91192877],\n",
       "       [ 0.38500894, -0.17307621],\n",
       "       [-0.54552626,  1.92526504],\n",
       "       [-1.84827553,  0.47711404],\n",
       "       [-0.2663657 ,  0.09291071],\n",
       "       [-0.82468682,  0.38845173],\n",
       "       [-1.38300793, -0.64594185],\n",
       "       [ 0.01279486,  0.29978942],\n",
       "       [ 0.6641695 , -1.29613209],\n",
       "       [-1.47606145,  0.32934353],\n",
       "       [ 0.94333005, -1.17791569],\n",
       "       [-0.35941922, -0.79371236],\n",
       "       [ 0.6641695 , -1.11880748],\n",
       "       [-1.38300793, -1.47345671],\n",
       "       [ 1.96691877,  2.16169786],\n",
       "       [-1.75522201, -1.50301081],\n",
       "       [-0.7316333 , -1.62122722],\n",
       "       [-0.2663657 , -0.49817134],\n",
       "       [ 0.75722301, -0.85282056],\n",
       "       [ 0.6641695 , -0.73460415],\n",
       "       [ 0.85027653, -1.3847944 ],\n",
       "       [-1.84827553, -0.52772544],\n",
       "       [ 0.10584838,  1.06819608],\n",
       "       [ 1.31554413, -0.94148287],\n",
       "       [-0.82468682, -0.26173852],\n",
       "       [-0.82468682, -1.23702389],\n",
       "       [-1.01079386, -0.35040082],\n",
       "       [ 0.38500894,  1.12730429],\n",
       "       [-1.10384737,  0.32934353],\n",
       "       [-0.45247274, -0.85282056],\n",
       "       [ 0.47806246,  1.74794043],\n",
       "       [-0.08025866,  0.29978942],\n",
       "       [-1.84827553,  0.35889763],\n",
       "       [-1.28995441,  0.56577634],\n",
       "       [-1.01079386,  1.98437325],\n",
       "       [ 1.87386525, -0.94148287],\n",
       "       [ 0.1989019 , -0.26173852],\n",
       "       [ 1.68775821,  1.00908788],\n",
       "       [ 1.03638357,  0.53622224],\n",
       "       [ 1.78081173, -1.08925338],\n",
       "       [-0.08025866,  2.19125196],\n",
       "       [ 1.50165117,  0.0042484 ],\n",
       "       [-0.63857978,  0.56577634],\n",
       "       [-0.2663657 , -1.3847944 ],\n",
       "       [ 0.01279486, -0.26173852],\n",
       "       [-0.2663657 ,  0.53622224],\n",
       "       [-0.2663657 , -0.76415825],\n",
       "       [ 2.05997229, -0.70505005],\n",
       "       [ 1.87386525, -0.67549595],\n",
       "       [ 0.85027653, -1.3256862 ],\n",
       "       [-1.38300793, -0.11396801],\n",
       "       [-0.17331218, -0.20263031],\n",
       "       [ 0.1989019 ,  0.06335661],\n",
       "       [ 1.50165117,  1.00908788],\n",
       "       [ 2.05997229,  1.12730429],\n",
       "       [ 1.96691877, -1.20746979],\n",
       "       [-1.01079386, -1.56211901],\n",
       "       [-0.7316333 , -1.56211901],\n",
       "       [ 0.01279486,  1.2750748 ],\n",
       "       [-0.54552626,  0.47711404],\n",
       "       [-0.7316333 ,  0.27023532],\n",
       "       [-0.7316333 ,  1.92526504],\n",
       "       [ 1.96691877,  0.38845173],\n",
       "       [-1.28995441, -1.3847944 ],\n",
       "       [ 0.57111598, -0.91192877],\n",
       "       [ 1.59470469,  1.62972402],\n",
       "       [-0.7316333 ,  1.09775018],\n",
       "       [-1.19690089,  0.27023532],\n",
       "       [ 1.78081173, -0.29129262],\n",
       "       [-0.17331218,  2.19125196],\n",
       "       [ 0.38500894,  0.15201891],\n",
       "       [ 0.75722301, -1.11880748],\n",
       "       [-1.01079386, -0.35040082],\n",
       "       [-1.10384737, -0.52772544],\n",
       "       [-0.35941922,  0.06335661],\n",
       "       [ 1.87386525,  0.92042557],\n",
       "       [ 0.10584838,  0.15201891],\n",
       "       [-1.19690089, -1.08925338],\n",
       "       [ 0.85027653, -0.67549595],\n",
       "       [-0.63857978,  0.18157302],\n",
       "       [ 0.38500894,  0.0042484 ],\n",
       "       [-0.91774034,  0.56577634],\n",
       "       [ 1.03638357,  2.10258966],\n",
       "       [ 0.1989019 , -0.67549595],\n",
       "       [ 0.94333005,  0.12246481],\n",
       "       [ 2.05997229, -0.82326646],\n",
       "       [ 0.10584838,  0.77265506],\n",
       "       [-0.91774034, -0.97103697],\n",
       "       [-1.10384737,  0.47711404],\n",
       "       [ 1.59470469,  1.77749453],\n",
       "       [ 0.10584838, -0.82326646],\n",
       "       [-1.01079386,  0.56577634],\n",
       "       [-0.63857978, -0.35040082],\n",
       "       [ 0.94333005,  0.59533045],\n",
       "       [-0.08025866,  1.98437325],\n",
       "       [-1.47606145, -0.43906313],\n",
       "       [-0.82468682, -0.67549595],\n",
       "       [ 0.1989019 ,  2.13214376],\n",
       "       [-0.91774034,  0.41800583],\n",
       "       [ 0.38500894,  0.27023532],\n",
       "       [-1.10384737,  0.29978942],\n",
       "       [ 0.38500894,  0.09291071],\n",
       "       [-0.2663657 ,  2.27991427],\n",
       "       [ 0.29195542, -0.52772544],\n",
       "       [ 0.94333005, -0.85282056],\n",
       "       [-0.17331218,  1.65927813],\n",
       "       [-1.19690089,  0.50666814],\n",
       "       [ 0.85027653, -0.79371236],\n",
       "       [ 0.94333005,  1.80704864],\n",
       "       [ 1.96691877, -0.82326646],\n",
       "       [-0.2663657 , -1.3256862 ],\n",
       "       [ 0.6641695 ,  1.80704864],\n",
       "       [-0.91774034, -0.43906313],\n",
       "       [ 1.87386525,  0.74310096],\n",
       "       [ 0.85027653,  1.2750748 ],\n",
       "       [-0.08025866,  0.24068122],\n",
       "       [-0.54552626, -1.53256491],\n",
       "       [-1.28995441, -0.43906313],\n",
       "       [ 0.6641695 , -1.4143485 ],\n",
       "       [ 0.29195542,  0.06335661],\n",
       "       [-0.2663657 , -0.26173852],\n",
       "       [-1.01079386, -0.46861723],\n",
       "       [ 0.94333005,  2.10258966],\n",
       "       [-0.45247274, -1.14836158],\n",
       "       [ 1.03638357, -1.23702389],\n",
       "       [ 1.78081173,  1.54106172],\n",
       "       [ 1.31554413,  1.3046289 ],\n",
       "       [-0.2663657 ,  0.0338025 ],\n",
       "       [ 0.01279486, -0.58683364],\n",
       "       [-0.45247274, -0.0253057 ],\n",
       "       [ 0.1989019 , -0.37995493],\n",
       "       [-1.10384737, -1.62122722],\n",
       "       [-1.10384737,  0.06335661],\n",
       "       [-0.2663657 ,  1.12730429],\n",
       "       [ 0.38500894,  1.00908788],\n",
       "       [-0.54552626,  1.48195351],\n",
       "       [ 0.38500894,  0.59533045],\n",
       "       [ 1.03638357,  0.12246481],\n",
       "       [-0.45247274,  1.2750748 ],\n",
       "       [-1.28995441, -1.11880748],\n",
       "       [-1.47606145, -1.26657799],\n",
       "       [ 1.87386525,  2.19125196],\n",
       "       [-1.66216849,  0.12246481],\n",
       "       [-0.54552626,  1.39329121],\n",
       "       [-1.56911497,  0.53622224],\n",
       "       [-1.19690089, -1.4143485 ],\n",
       "       [-1.66216849,  0.35889763],\n",
       "       [-0.45247274, -1.23702389],\n",
       "       [-1.10384737,  1.42284531],\n",
       "       [-1.66216849, -1.3847944 ],\n",
       "       [ 1.31554413,  2.36857658],\n",
       "       [ 1.87386525, -1.3847944 ],\n",
       "       [-0.54552626, -1.53256491],\n",
       "       [ 0.94333005, -1.20746979],\n",
       "       [ 1.03638357, -1.00059107],\n",
       "       [-1.66216849, -0.61638774],\n",
       "       [ 1.12943709, -1.00059107],\n",
       "       [-1.84827553, -0.76415825],\n",
       "       [-1.66216849,  0.47711404],\n",
       "       [-0.2663657 , -0.32084672],\n",
       "       [-1.75522201,  0.0042484 ],\n",
       "       [-0.17331218,  1.42284531],\n",
       "       [ 0.47806246,  1.24552069],\n",
       "       [ 0.01279486, -0.43906313],\n",
       "       [-0.2663657 ,  0.06335661],\n",
       "       [-1.28995441, -0.43906313],\n",
       "       [-0.54552626,  0.89087147],\n",
       "       [ 0.29195542,  0.06335661],\n",
       "       [ 0.10584838, -0.82326646],\n",
       "       [-0.08025866,  2.25036017],\n",
       "       [-0.7316333 ,  1.3637371 ],\n",
       "       [ 0.6641695 ,  0.27023532],\n",
       "       [ 0.85027653, -1.05969928],\n",
       "       [ 0.85027653, -1.17791569],\n",
       "       [ 0.57111598,  2.04348145],\n",
       "       [ 1.96691877,  1.77749453],\n",
       "       [ 1.12943709, -1.47345671],\n",
       "       [-0.91774034, -0.32084672],\n",
       "       [ 0.1989019 ,  0.15201891],\n",
       "       [-0.45247274, -0.29129262],\n",
       "       [ 0.75722301,  0.77265506],\n",
       "       [-1.56911497, -0.0548598 ],\n",
       "       [-0.17331218,  0.15201891],\n",
       "       [ 0.75722301,  0.53622224],\n",
       "       [-0.2663657 , -0.29129262],\n",
       "       [ 1.03638357, -0.91192877],\n",
       "       [-1.01079386,  0.59533045],\n",
       "       [ 2.05997229, -1.05969928],\n",
       "       [-0.08025866, -0.49817134],\n",
       "       [ 0.01279486,  0.0338025 ],\n",
       "       [-1.01079386, -1.47345671],\n",
       "       [ 1.03638357,  0.56577634],\n",
       "       [ 2.05997229,  0.38845173],\n",
       "       [ 1.40859765, -1.05969928],\n",
       "       [ 2.05997229,  0.94997967],\n",
       "       [-1.28995441, -1.50301081],\n",
       "       [ 0.85027653, -1.47345671],\n",
       "       [ 1.78081173, -1.29613209],\n",
       "       [-0.08025866,  0.0338025 ],\n",
       "       [ 0.1989019 , -0.32084672],\n",
       "       [ 0.1989019 , -0.37995493],\n",
       "       [-0.63857978, -1.53256491],\n",
       "       [ 0.1989019 , -0.29129262],\n",
       "       [ 0.10584838,  0.21112712],\n",
       "       [-0.63857978, -0.0548598 ],\n",
       "       [-0.63857978,  0.12246481],\n",
       "       [-0.63857978,  0.0338025 ],\n",
       "       [-0.45247274, -0.55727954],\n",
       "       [-0.63857978, -1.05969928],\n",
       "       [-0.2663657 , -0.94148287],\n",
       "       [ 0.38500894,  0.29978942],\n",
       "       [-0.17331218, -1.08925338],\n",
       "       [-1.84827553, -0.0548598 ],\n",
       "       [ 0.10584838, -0.32084672],\n",
       "       [ 0.85027653, -0.61638774],\n",
       "       [ 1.22249061,  2.25036017],\n",
       "       [-1.66216849, -1.00059107],\n",
       "       [-1.47606145, -0.20263031],\n",
       "       [-0.08025866,  0.15201891],\n",
       "       [ 1.22249061,  1.89571094],\n",
       "       [-0.2663657 , -0.43906313],\n",
       "       [ 0.94333005,  0.77265506],\n",
       "       [ 0.75722301,  0.27023532],\n",
       "       [ 0.85027653,  2.19125196],\n",
       "       [ 0.75722301, -0.32084672],\n",
       "       [-1.28995441,  0.41800583],\n",
       "       [-0.08025866, -0.37995493],\n",
       "       [-0.08025866,  0.27023532],\n",
       "       [ 1.50165117,  1.12730429],\n",
       "       [ 0.38500894, -0.14352211],\n",
       "       [ 1.31554413,  0.59533045],\n",
       "       [ 0.29195542, -0.73460415],\n",
       "       [-0.35941922,  1.334183  ],\n",
       "       [-1.56911497,  0.06335661],\n",
       "       [-0.2663657 , -0.14352211],\n",
       "       [ 0.10584838,  0.0338025 ],\n",
       "       [-1.38300793, -0.20263031],\n",
       "       [-0.91774034, -0.76415825],\n",
       "       [-0.91774034,  0.50666814],\n",
       "       [ 0.10584838,  0.0338025 ],\n",
       "       [-1.10384737, -1.59167312],\n",
       "       [ 0.38500894, -0.46861723],\n",
       "       [-1.10384737, -1.62122722],\n",
       "       [ 1.78081173,  0.12246481],\n",
       "       [ 1.40859765,  0.06335661],\n",
       "       [ 0.29195542, -0.20263031],\n",
       "       [ 0.01279486,  0.0338025 ],\n",
       "       [-1.10384737,  0.29978942],\n",
       "       [ 0.75722301,  0.35889763],\n",
       "       [ 1.40859765,  2.16169786],\n",
       "       [ 0.85027653,  1.03864198],\n",
       "       [-0.7316333 ,  0.29978942],\n",
       "       [-0.35941922,  1.24552069],\n",
       "       [-1.10384737, -1.11880748],\n",
       "       [-0.08025866,  0.06335661],\n",
       "       [-0.54552626,  1.39329121],\n",
       "       [ 0.29195542,  0.06335661],\n",
       "       [-1.10384737,  0.41800583],\n",
       "       [ 1.03638357,  0.47711404],\n",
       "       [-1.01079386,  0.53622224],\n",
       "       [-0.91774034,  1.57061582],\n",
       "       [ 0.1989019 ,  0.24068122],\n",
       "       [ 0.1989019 ,  0.15201891],\n",
       "       [-1.75522201,  0.18157302],\n",
       "       [ 0.47806246,  1.86615684],\n",
       "       [-0.17331218,  0.86131737],\n",
       "       [ 0.29195542,  0.0338025 ],\n",
       "       [-0.08025866,  0.0042484 ],\n",
       "       [ 0.01279486, -0.32084672],\n",
       "       [-0.7316333 , -0.61638774],\n",
       "       [ 0.10584838,  1.89571094],\n",
       "       [-0.2663657 , -0.58683364],\n",
       "       [ 0.94333005,  1.89571094],\n",
       "       [ 0.75722301, -1.23702389],\n",
       "       [ 0.29195542, -0.52772544],\n",
       "       [ 0.01279486,  1.24552069],\n",
       "       [ 0.10584838,  0.27023532],\n",
       "       [ 1.31554413, -1.44390261],\n",
       "       [ 0.29195542, -0.32084672],\n",
       "       [-0.08025866, -0.52772544],\n",
       "       [-0.35941922, -1.3256862 ],\n",
       "       [-1.01079386, -0.37995493],\n",
       "       [-0.35941922, -0.79371236],\n",
       "       [-1.56911497, -1.59167312],\n",
       "       [-0.2663657 ,  0.80220916],\n",
       "       [ 1.96691877,  0.18157302],\n",
       "       [-1.75522201,  0.44755994],\n",
       "       [ 0.94333005,  2.01392735],\n",
       "       [-1.01079386,  0.41800583],\n",
       "       [ 1.40859765,  0.35889763],\n",
       "       [ 0.75722301, -1.3847944 ],\n",
       "       [-1.28995441, -1.26657799],\n",
       "       [ 0.38500894,  0.29978942],\n",
       "       [-0.82468682,  0.15201891],\n",
       "       [ 1.50165117, -1.29613209],\n",
       "       [-0.7316333 , -0.23218442],\n",
       "       [ 0.38500894, -0.46861723],\n",
       "       [ 0.38500894, -0.49817134],\n",
       "       [-1.01079386,  0.77265506],\n",
       "       [-1.10384737, -0.79371236],\n",
       "       [ 1.03638357, -0.14352211],\n",
       "       [-1.28995441, -0.35040082],\n",
       "       [-0.7316333 ,  0.50666814],\n",
       "       [ 0.29195542,  0.06335661],\n",
       "       [-0.17331218, -0.46861723],\n",
       "       [-0.08025866, -0.43906313],\n",
       "       [-1.10384737, -1.17791569]])"
      ]
     },
     "execution_count": 25,
     "metadata": {},
     "output_type": "execute_result"
    }
   ],
   "source": [
    "X_train"
   ]
  },
  {
   "cell_type": "code",
   "execution_count": 26,
   "metadata": {},
   "outputs": [],
   "source": [
    "#KNN Alogorithm\n",
    "from sklearn.neighbors import KNeighborsClassifier"
   ]
  },
  {
   "cell_type": "code",
   "execution_count": 28,
   "metadata": {},
   "outputs": [],
   "source": [
    "classifier = KNeighborsClassifier(n_neighbors=5,p=2, metric='minkowski')"
   ]
  },
  {
   "cell_type": "code",
   "execution_count": 29,
   "metadata": {},
   "outputs": [
    {
     "data": {
      "text/plain": [
       "KNeighborsClassifier(algorithm='auto', leaf_size=30, metric='minkowski',\n",
       "           metric_params=None, n_jobs=1, n_neighbors=5, p=2,\n",
       "           weights='uniform')"
      ]
     },
     "execution_count": 29,
     "metadata": {},
     "output_type": "execute_result"
    }
   ],
   "source": [
    "classifier.fit(X_train,y_train)"
   ]
  },
  {
   "cell_type": "code",
   "execution_count": 30,
   "metadata": {},
   "outputs": [],
   "source": [
    "#predictor\n",
    "y_predictor = classifier.predict(X_test)"
   ]
  },
  {
   "cell_type": "code",
   "execution_count": 31,
   "metadata": {},
   "outputs": [
    {
     "data": {
      "text/plain": [
       "array([0, 0, 0, 0, 0, 1, 0, 1, 1, 1, 1, 0, 0, 1, 0, 0, 0, 0, 0, 1, 0, 0,\n",
       "       0, 0, 0, 1, 1, 0, 0, 0, 0, 1, 1, 0, 0, 0, 1, 0, 0, 0, 0, 0, 0, 0,\n",
       "       1, 0, 0, 1, 0, 0, 0, 0, 1, 1, 0, 0, 0, 0, 0, 1, 0, 0, 1, 0, 1, 0,\n",
       "       0, 1, 1, 0, 1, 0, 1, 0, 0, 1, 0, 0, 0, 1], dtype=int64)"
      ]
     },
     "execution_count": 31,
     "metadata": {},
     "output_type": "execute_result"
    }
   ],
   "source": [
    "y_predictor"
   ]
  },
  {
   "cell_type": "code",
   "execution_count": 32,
   "metadata": {},
   "outputs": [],
   "source": [
    "#Confusion Matrixs in classifiers\n",
    "from sklearn.metrics import confusion_matrix"
   ]
  },
  {
   "cell_type": "code",
   "execution_count": 33,
   "metadata": {},
   "outputs": [],
   "source": [
    "cm = confusion_matrix(y_test,y_predictor)"
   ]
  },
  {
   "cell_type": "code",
   "execution_count": 34,
   "metadata": {},
   "outputs": [
    {
     "data": {
      "text/plain": [
       "array([[50,  1],\n",
       "       [ 5, 24]], dtype=int64)"
      ]
     },
     "execution_count": 34,
     "metadata": {},
     "output_type": "execute_result"
    }
   ],
   "source": [
    "cm"
   ]
  },
  {
   "cell_type": "code",
   "execution_count": 35,
   "metadata": {},
   "outputs": [],
   "source": [
    "#For plotting a graph"
   ]
  },
  {
   "cell_type": "code",
   "execution_count": 36,
   "metadata": {},
   "outputs": [
    {
     "data": {
      "text/plain": [
       "<matplotlib.legend.Legend at 0x1c1c9ad3ef0>"
      ]
     },
     "execution_count": 36,
     "metadata": {},
     "output_type": "execute_result"
    },
    {
     "data": {
      "image/png": "[encoded data removed]",
      "text/plain": [
       "<Figure size 432x288 with 1 Axes>"
      ]
     },
     "metadata": {},
     "output_type": "display_data"
    }
   ],
   "source": [
    "# Visualising the Training set results\n",
    "from matplotlib.colors import ListedColormap\n",
    "X_point, y_point = X_train, y_train\n",
    "X1, X2 = np.meshgrid(np.arange(start = X_point[:, 0].min() - 1, stop = X_point[:, 0].max() + 1, step = 0.01),\n",
    "                     np.arange(start = X_point[:, 1].min() - 1, stop = X_point[:, 1].max() + 1, step = 0.01))\n",
    "plt.contourf(X1, X2, classifier.predict(np.array([X1.ravel(), X2.ravel()]).T).reshape(X1.shape),\n",
    "             alpha = 0.75, cmap = ListedColormap(('green', 'blue')))\n",
    "plt.xlim(X1.min(), X1.max())\n",
    "plt.ylim(X2.min(), X2.max())\n",
    "for i, j in enumerate(np.unique(y_point)):\n",
    "    plt.scatter(X_point[y_point == j, 0], X_point[y_point == j, 1],\n",
    "                c = ListedColormap(('green', 'blue'))(i), label = j)\n",
    "plt.title('K-NN Training set')\n",
    "plt.xlabel('Age')\n",
    "plt.ylabel('Salary')\n",
    "plt.legend()\n"
   ]
  },
  {
   "cell_type": "code",
   "execution_count": 37,
   "metadata": {},
   "outputs": [
    {
     "data": {
      "text/plain": [
       "<matplotlib.legend.Legend at 0x1c1c8a0d710>"
      ]
     },
     "execution_count": 37,
     "metadata": {},
     "output_type": "execute_result"
    },
    {
     "data": {
      "image/png": "[encoded data removed]",
      "text/plain": [
       "<Figure size 432x288 with 1 Axes>"
      ]
     },
     "metadata": {},
     "output_type": "display_data"
    }
   ],
   "source": [
    "# Visualising the Training set results\n",
    "from matplotlib.colors import ListedColormap\n",
    "X_point, y_point = X_test, y_test\n",
    "X1, X2 = np.meshgrid(np.arange(start = X_point[:, 0].min() - 1, stop = X_point[:, 0].max() + 1, step = 0.01),\n",
    "                     np.arange(start = X_point[:, 1].min() - 1, stop = X_point[:, 1].max() + 1, step = 0.01))\n",
    "plt.contourf(X1, X2, classifier.predict(np.array([X1.ravel(), X2.ravel()]).T).reshape(X1.shape),\n",
    "             alpha = 0.75, cmap = ListedColormap(('green', 'blue')))\n",
    "plt.xlim(X1.min(), X1.max())\n",
    "plt.ylim(X2.min(), X2.max())\n",
    "for i, j in enumerate(np.unique(y_point)):\n",
    "    plt.scatter(X_point[y_point == j, 0], X_point[y_point == j, 1],\n",
    "                c = ListedColormap(('green', 'blue'))(i), label = j)\n",
    "plt.title('K-NN Training set')\n",
    "plt.xlabel('Age')\n",
    "plt.ylabel('Salary')\n",
    "plt.legend()\n"
   ]
  },
  {
   "cell_type": "code",
   "execution_count": null,
   "metadata": {},
   "outputs": [],
   "source": []
  }
 ],
 "metadata": {
  "kernelspec": {
   "display_name": "Python 3",
   "language": "python",
   "name": "python3"
  },
  "language_info": {
   "codemirror_mode": {
    "name": "ipython",
    "version": 3
   },
   "file_extension": ".py",
   "mimetype": "text/x-python",
   "name": "python",
   "nbconvert_exporter": "python",
   "pygments_lexer": "ipython3",
   "version": "3.6.5"
  }
 },
 "nbformat": 4,
 "nbformat_minor": 2
}
